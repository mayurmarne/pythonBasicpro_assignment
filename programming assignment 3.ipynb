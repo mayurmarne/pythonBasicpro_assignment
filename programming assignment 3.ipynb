{
 "cells": [
  {
   "cell_type": "code",
   "execution_count": 2,
   "id": "16c83b87",
   "metadata": {},
   "outputs": [
    {
     "name": "stdout",
     "output_type": "stream",
     "text": [
      "enter a Number : 0\n",
      "The number is Zero\n"
     ]
    }
   ],
   "source": [
    "#1. Write a Python Program to Check if a Number is Positive, Negative or Zero?\n",
    "\n",
    "num = int(input(\"enter a Number : \"))\n",
    "\n",
    "if num == 0 :\n",
    "    print(\"The number is Zero\")\n",
    "elif num > 0:\n",
    "    print(\"The Number is Positive\")\n",
    "else:\n",
    "    print(\"The number is Negative\")"
   ]
  },
  {
   "cell_type": "code",
   "execution_count": 6,
   "id": "95d1cdd4",
   "metadata": {},
   "outputs": [
    {
     "name": "stdout",
     "output_type": "stream",
     "text": [
      "enter number5\n",
      "its even number\n"
     ]
    }
   ],
   "source": [
    "#2. Write a Python Program to Check if a Number is Odd or Even?\n",
    "\n",
    "num = int(input(\"enter number\"))\n",
    "if num %2==0:\n",
    "    print(\"its odd numner\")\n",
    "else:\n",
    "    print(\"its even number\")"
   ]
  },
  {
   "cell_type": "code",
   "execution_count": 10,
   "id": "a7185453",
   "metadata": {},
   "outputs": [
    {
     "name": "stdout",
     "output_type": "stream",
     "text": [
      "Enter a year : 2004\n",
      "2004 is a leap year\n"
     ]
    }
   ],
   "source": [
    "#3. Write a Python Program to Check Leap Year?\n",
    "year = int(input(\"Enter a year : \"))\n",
    "\n",
    "if year % 4 == 0:\n",
    "    print(year, 'is a leap year')\n",
    "else:\n",
    "    print(year,'is not a leap year') "
   ]
  },
  {
   "cell_type": "code",
   "execution_count": 11,
   "id": "f3c67da1",
   "metadata": {},
   "outputs": [
    {
     "name": "stdout",
     "output_type": "stream",
     "text": [
      "Enter a number: 2\n",
      "2 is a prime number\n"
     ]
    }
   ],
   "source": [
    "#4. Write a Python Program to Check Prime Number?\n",
    "num1 = int(input(\"Enter a number: \")) \n",
    " \n",
    "if num1 > 1:\n",
    "    for i in range(2,num1):\n",
    "        if (num1%i) == 0:\n",
    "            print(num1,'is not a prime')                \n",
    "            break\n",
    "    else:\n",
    "        print(num1,'is a prime number')\n",
    "else:\n",
    "    print(\"Number is less than 1\")\n",
    "    "
   ]
  },
  {
   "cell_type": "code",
   "execution_count": 12,
   "id": "42cd0dab",
   "metadata": {},
   "outputs": [
    {
     "name": "stdout",
     "output_type": "stream",
     "text": [
      "Enter a number1: 10\n",
      "Enter a number2: 20\n",
      "10 is not a prime\n",
      "11 is a prime number\n",
      "12 is not a prime\n",
      "13 is a prime number\n",
      "14 is not a prime\n",
      "15 is not a prime\n",
      "16 is not a prime\n",
      "17 is a prime number\n",
      "18 is not a prime\n",
      "19 is a prime number\n"
     ]
    },
    {
     "data": {
      "text/plain": [
       "[11, 13, 17, 19]"
      ]
     },
     "execution_count": 12,
     "metadata": {},
     "output_type": "execute_result"
    }
   ],
   "source": [
    "#5. Write a Python Program to Print all Prime Numbers in an Interval of 1-10000?\n",
    "listprime = []\n",
    "num1 = int(input(\"Enter a number1: \")) \n",
    "num2 = int(input(\"Enter a number2: \")) \n",
    "for num in range(num1,num2):  \n",
    "    if num > 1:\n",
    "        for i in range(2,num):\n",
    "            if (num%i) == 0:\n",
    "                print(num,'is not a prime')                \n",
    "                break\n",
    "        else:\n",
    "            print(num,'is a prime number')\n",
    "            listprime.append(num)\n",
    "    \n",
    "listprime \n"
   ]
  },
  {
   "cell_type": "code",
   "execution_count": null,
   "id": "4dea4de9",
   "metadata": {},
   "outputs": [],
   "source": []
  }
 ],
 "metadata": {
  "kernelspec": {
   "display_name": "Python 3 (ipykernel)",
   "language": "python",
   "name": "python3"
  },
  "language_info": {
   "codemirror_mode": {
    "name": "ipython",
    "version": 3
   },
   "file_extension": ".py",
   "mimetype": "text/x-python",
   "name": "python",
   "nbconvert_exporter": "python",
   "pygments_lexer": "ipython3",
   "version": "3.9.13"
  }
 },
 "nbformat": 4,
 "nbformat_minor": 5
}
