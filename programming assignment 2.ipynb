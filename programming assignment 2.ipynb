{
 "cells": [
  {
   "cell_type": "code",
   "execution_count": 2,
   "id": "62f9590a",
   "metadata": {},
   "outputs": [
    {
     "name": "stdout",
     "output_type": "stream",
     "text": [
      "enter kilometers :56.3\n",
      "56.3 kilometers is equal to 34.9623 miles\n"
     ]
    }
   ],
   "source": [
    "# 1. Write a Python program to convert kilometers to miles?\n",
    "\n",
    "\n",
    "kilometers = float(input(\"enter kilometers :\"))\n",
    "conversionUnit = 0.621\n",
    "miles =conversionUnit *kilometers\n",
    "print(\"{} kilometers is equal to {} miles\".format(kilometers,miles))"
   ]
  },
  {
   "cell_type": "code",
   "execution_count": 5,
   "id": "8082deb9",
   "metadata": {},
   "outputs": [
    {
     "name": "stdout",
     "output_type": "stream",
     "text": [
      "entere Celsius   :45.6\n",
      "45.6 Celsius is equal to 114.08 Fahrenheit\n"
     ]
    }
   ],
   "source": [
    "#2. Write a Python program to convert Celsius to Fahrenheit?\n",
    "\n",
    "celsius = float(input(\"entere Celsius   :\"))\n",
    "Fahrenheit = 9/5 * celsius + 32\n",
    "print(\"{} Celsius is equal to {} Fahrenheit\".format(Celsius ,Fahrenheit))\n"
   ]
  },
  {
   "cell_type": "code",
   "execution_count": 8,
   "id": "f6620d37",
   "metadata": {},
   "outputs": [
    {
     "name": "stdout",
     "output_type": "stream",
     "text": [
      "enter year2001\n",
      "enter month5\n",
      "calendar\n",
      "      May 2001\n",
      "Mo Tu We Th Fr Sa Su\n",
      "    1  2  3  4  5  6\n",
      " 7  8  9 10 11 12 13\n",
      "14 15 16 17 18 19 20\n",
      "21 22 23 24 25 26 27\n",
      "28 29 30 31\n",
      "\n"
     ]
    }
   ],
   "source": [
    "# 3. Write a Python program to display calendar?\n",
    "\n",
    "import calendar\n",
    "\n",
    "year= int(input(\"enter year\"))\n",
    "month = int(input(\"enter month\"))\n",
    "\n",
    "try :\n",
    "    print(\"calendar\")\n",
    "    print(calendar.month(year,month))\n",
    "\n",
    "except:\n",
    "    print(\"out of range\")"
   ]
  },
  {
   "cell_type": "code",
   "execution_count": 9,
   "id": "c7915781",
   "metadata": {},
   "outputs": [
    {
     "name": "stdout",
     "output_type": "stream",
     "text": [
      "Descriminant :  12\n",
      "Sol1 :  -3.732050807568877\n",
      "Sol2 :  2.267949192431123\n"
     ]
    }
   ],
   "source": [
    "#4. Write a Python program to solve quadratic equation?\n",
    "import math\n",
    "a = 1\n",
    "b = 4\n",
    "c = 1\n",
    "\n",
    "d = b**2 - (4*a*c)\n",
    "print(\"Descriminant : \",d)\n",
    "\n",
    "sol1 = (-b - math.sqrt(d))/(2*a)\n",
    "sol2 = b - (math.sqrt(d))/(2*a)\n",
    "\n",
    "print(\"Sol1 : \",sol1)\n",
    "print(\"Sol2 : \",sol2)"
   ]
  },
  {
   "cell_type": "code",
   "execution_count": 10,
   "id": "771e939e",
   "metadata": {},
   "outputs": [
    {
     "name": "stdout",
     "output_type": "stream",
     "text": [
      "Num1 : 5\n",
      "Num2 : 6\n",
      "Before swaping x = 5, y = 6\n",
      "After swaping x = 6, y = 5\n"
     ]
    }
   ],
   "source": [
    "#5. Write a Python program to swap two variables without temp variable?\n",
    "x = int(input(\"Num1 : \"))\n",
    "y = int(input(\"Num2 : \"))\n",
    "print(\"Before swaping x = {}, y = {}\".format(x,y))\n",
    "#swaping :)\n",
    "y,x = x,y\n",
    "print(\"After swaping x = {}, y = {}\".format(x,y))"
   ]
  },
  {
   "cell_type": "code",
   "execution_count": null,
   "id": "915830f6",
   "metadata": {},
   "outputs": [],
   "source": []
  }
 ],
 "metadata": {
  "kernelspec": {
   "display_name": "Python 3 (ipykernel)",
   "language": "python",
   "name": "python3"
  },
  "language_info": {
   "codemirror_mode": {
    "name": "ipython",
    "version": 3
   },
   "file_extension": ".py",
   "mimetype": "text/x-python",
   "name": "python",
   "nbconvert_exporter": "python",
   "pygments_lexer": "ipython3",
   "version": "3.9.13"
  }
 },
 "nbformat": 4,
 "nbformat_minor": 5
}
