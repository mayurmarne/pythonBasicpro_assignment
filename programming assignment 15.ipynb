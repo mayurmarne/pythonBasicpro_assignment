{
 "cells": [
  {
   "cell_type": "markdown",
   "id": "a0fbbc9c",
   "metadata": {},
   "source": [
    "# Question 1:\n",
    "    Please write a program using generator to print the numbers which can be divisible by 5 and\n",
    "    7 between 0 and n in comma separated form while n is input by console.\n",
    "    Example:\n",
    "    If the following n is given as input to the program:\n",
    "    100\n",
    "    Then, the output of the program should be:\n",
    "    0,35,70"
   ]
  },
  {
   "cell_type": "code",
   "execution_count": 1,
   "id": "c2bf3f2a",
   "metadata": {},
   "outputs": [
    {
     "name": "stdout",
     "output_type": "stream",
     "text": [
      "enter n : 45\n",
      "0,35\n"
     ]
    }
   ],
   "source": [
    "\n",
    "def putNumbers(n): \n",
    "    i = 0 \n",
    "    while i < n:\n",
    "        j = i\n",
    "        i += 1 \n",
    "        if j % 7 == 0 and j % 5 == 0:\n",
    "            yield j\n",
    "n = int(input('enter n : '))\n",
    "num =[]\n",
    "for i in putNumbers(n): \n",
    "    num.append(str(i))\n",
    "    \n",
    "print(','.join(num))"
   ]
  },
  {
   "cell_type": "markdown",
   "id": "61d0f91f",
   "metadata": {},
   "source": [
    "# Question 2:\n",
    "    Please write a program using generator to print the even numbers between 0 and n in comma\n",
    "    separated form while n is input by console.\n",
    "    Example:\n",
    "    If the following n is given as input to the program:\n",
    "    10\n",
    "    Then, the output of the program should be:\n",
    "    0,2,4,6,8,10\n"
   ]
  },
  {
   "cell_type": "code",
   "execution_count": 2,
   "id": "7c1d8823",
   "metadata": {},
   "outputs": [
    {
     "name": "stdout",
     "output_type": "stream",
     "text": [
      "enter n : 10\n",
      "0,2,4,6,8\n"
     ]
    }
   ],
   "source": [
    "\n",
    "def putNumbers(n): \n",
    "    i = 0 \n",
    "    while i < n:\n",
    "        j = i\n",
    "        i += 1 \n",
    "        if j % 2 == 0:\n",
    "            yield j\n",
    "n = int(input('enter n : '))\n",
    "num =[]\n",
    "for i in putNumbers(n): \n",
    "    num.append(str(i))\n",
    "print(','.join(num))"
   ]
  },
  {
   "cell_type": "markdown",
   "id": "9ec62b44",
   "metadata": {},
   "source": [
    "# Question 3:\n",
    "    The Fibonacci Sequence is computed based on the following formula:\n",
    "    f(n)=0 if n=0\n",
    "    f(n)=1 if n=1\n",
    "    f(n)=f(n-1)+f(n-2) if n > 1\n",
    "    Please write a program using list comprehension to print the Fibonacci Sequence in comma\n",
    "    separated form with a given n input by console.\n",
    "    Example:\n",
    "    If the following n is given as input to the program:\n",
    "    7\n",
    "\n",
    "    Then, the output of the program should be:\n",
    "    0,1,1,2,3,5,8,13\n"
   ]
  },
  {
   "cell_type": "code",
   "execution_count": 3,
   "id": "e7c0e3c9",
   "metadata": {},
   "outputs": [
    {
     "name": "stdout",
     "output_type": "stream",
     "text": [
      "Enter a number :7\n",
      "0,1,1,2,3,5,8,13\n"
     ]
    }
   ],
   "source": [
    "\n",
    "def fib(n):    \n",
    "    if n == 0: \n",
    "            return 0    \n",
    "    elif n == 1: \n",
    "            return 1    \n",
    "    else: \n",
    "            return fib(n-1)+fib(n-2)\n",
    "n=int(input('Enter a number :')) \n",
    "values = [str(fib(x)) for x in range(0, n+1)] \n",
    "print(\",\".join(values))"
   ]
  },
  {
   "cell_type": "markdown",
   "id": "a8b4aeec",
   "metadata": {},
   "source": [
    "# Question 4:\n",
    "    Assuming that we have some email addresses in the 'username@companyname.com' format,\n",
    "    please write program to print the user name of a given email address. Both user names and\n",
    "    company names are composed of letters only.\n",
    "    Example:\n",
    "    If the following email address is given as input to the program:\n",
    "    john@google.com\n",
    "    Then, the output of the program should be:\n",
    "    john\n"
   ]
  },
  {
   "cell_type": "code",
   "execution_count": 4,
   "id": "726c1c6b",
   "metadata": {},
   "outputs": [
    {
     "name": "stdout",
     "output_type": "stream",
     "text": [
      "Enter the email address : mayu@gmail.com\n",
      "User name :  mayu\n",
      "Company name :  gmail\n"
     ]
    }
   ],
   "source": [
    "\n",
    "email = input(\"Enter the email address : \").split('@')\n",
    "company = str(email[1]).split('.')\n",
    "print(\"User name : \",email[0])\n",
    "print(\"Company name : \",company[0])"
   ]
  },
  {
   "cell_type": "markdown",
   "id": "6626e8ba",
   "metadata": {},
   "source": [
    "# Question 5:\n",
    "    Define a class named Shape and its subclass Square. The Square class has an init function\n",
    "    which takes a length as argument. Both classes have a area function which can print the area\n",
    "    of the shape where Shape's area is 0 by default."
   ]
  },
  {
   "cell_type": "code",
   "execution_count": 6,
   "id": "db96f809",
   "metadata": {},
   "outputs": [
    {
     "name": "stdout",
     "output_type": "stream",
     "text": [
      "9\n"
     ]
    }
   ],
   "source": [
    "\n",
    "class Shape(object):\n",
    "    def __init__(self):\n",
    "        pass\n",
    "\n",
    "    def area(self):\n",
    "        return 0\n",
    "\n",
    "class Square(Shape):\n",
    "    def __init__(self, l):\n",
    "        Shape.__init__(self)\n",
    "        self.length = l\n",
    "\n",
    "    def area(self):\n",
    "        return self.length*self.length\n",
    "\n",
    "objSquare= Square(3)\n",
    "print(objSquare.area())\n"
   ]
  },
  {
   "cell_type": "code",
   "execution_count": null,
   "id": "c5d913ff",
   "metadata": {},
   "outputs": [],
   "source": []
  }
 ],
 "metadata": {
  "kernelspec": {
   "display_name": "Python 3 (ipykernel)",
   "language": "python",
   "name": "python3"
  },
  "language_info": {
   "codemirror_mode": {
    "name": "ipython",
    "version": 3
   },
   "file_extension": ".py",
   "mimetype": "text/x-python",
   "name": "python",
   "nbconvert_exporter": "python",
   "pygments_lexer": "ipython3",
   "version": "3.9.13"
  }
 },
 "nbformat": 4,
 "nbformat_minor": 5
}
