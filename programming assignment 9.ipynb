{
 "cells": [
  {
   "cell_type": "code",
   "execution_count": 2,
   "id": "796df964",
   "metadata": {},
   "outputs": [
    {
     "name": "stdout",
     "output_type": "stream",
     "text": [
      "Enter the number :56\n",
      "56 Number is not Disarium\n"
     ]
    }
   ],
   "source": [
    "#1. Write a Python program to check if the given number is a Disarium Number?\n",
    "\n",
    "def isDisarium(num):\n",
    "    sum = 0\n",
    "    while(num>0):\n",
    "        dgcnt= len(str(num))\n",
    "        digit = num%10\n",
    "        sum= sum + digit**dgcnt   \n",
    "        dgcnt-=1\n",
    "        num = num//10\n",
    "    return sum\n",
    "\n",
    "num = int(input(\"Enter the number :\"))\n",
    "\n",
    "\n",
    "sum = isDisarium(num)\n",
    "if sum == num:\n",
    "    print(num,\"Number is Disarium\")\n",
    "else:\n",
    "    print(num,\"Number is not Disarium\")"
   ]
  },
  {
   "cell_type": "code",
   "execution_count": 3,
   "id": "c924643e",
   "metadata": {},
   "outputs": [
    {
     "name": "stdout",
     "output_type": "stream",
     "text": [
      "Disarium numbers in range 1 to 100\n",
      "[1, 2, 3, 4, 5, 6, 7, 8, 9, 89]\n"
     ]
    }
   ],
   "source": [
    "#2. Write a Python program to print all disarium numbers between 1 to 100?\n",
    "\n",
    "def isDisarium(num):\n",
    "    sum = 0\n",
    "    while(num>0):\n",
    "        dgcnt= len(str(num))\n",
    "        digit = num%10\n",
    "        sum= sum + digit**dgcnt   \n",
    "        dgcnt-=1\n",
    "        num = num//10\n",
    "    return sum\n",
    "\n",
    "print(\"Disarium numbers in range 1 to 100\")\n",
    "disariumNum = []\n",
    "\n",
    "for i in range(1,101):\n",
    "    sum = 0\n",
    "    sum = isDisarium(i)\n",
    "    if sum == i:\n",
    "        disariumNum.append(i)        \n",
    "print(disariumNum)"
   ]
  },
  {
   "cell_type": "code",
   "execution_count": 5,
   "id": "d9def4ec",
   "metadata": {},
   "outputs": [
    {
     "name": "stdout",
     "output_type": "stream",
     "text": [
      "Enter the number :44\n",
      "44 Is a Happy Number\n"
     ]
    }
   ],
   "source": [
    "#3. Write a Python program to check if the given number is Happy Number?\n",
    "\n",
    "def isHappy(num):\n",
    "    sum = 0\n",
    "    while(num>0):\n",
    "        digit = num%10\n",
    "        sum= sum + digit**2        \n",
    "        num = num//10\n",
    "    return sum\n",
    "\n",
    "num = int(input(\"Enter the number :\"))\n",
    "result = num\n",
    "\n",
    "\n",
    "while (result != 1 and result != 4):\n",
    "    result = isHappy(result)\n",
    "\n",
    "if result == 1:\n",
    "    print(num,\"Is a Happy Number\")\n",
    "else:\n",
    "    print(num,\" Is a Unhappy Number\") "
   ]
  },
  {
   "cell_type": "code",
   "execution_count": 6,
   "id": "59b8eee7",
   "metadata": {},
   "outputs": [
    {
     "name": "stdout",
     "output_type": "stream",
     "text": [
      "Happy numbers in range 1 to 100\n",
      "[1, 7, 10, 13, 19, 23, 28, 31, 32, 44, 49, 68, 70, 79, 82, 86, 91, 94, 97, 100]\n"
     ]
    }
   ],
   "source": [
    "#4. Write a Python program to print all happy numbers between 1 and 100?\n",
    "\n",
    "def isHappy(num):\n",
    "    sum = 0\n",
    "    while(num>0):\n",
    "        digit = num%10\n",
    "        sum= sum + digit**2        \n",
    "        num = num//10\n",
    "    return sum\n",
    "\n",
    "print(\"Happy numbers in range 1 to 100\")\n",
    "result=num=i=0\n",
    "happyNum = []\n",
    "for i in range(1,101):\n",
    "    result = i\n",
    "    while (result != 1 and result != 4):\n",
    "        result = isHappy(result)    \n",
    "    if result == 1:\n",
    "        happyNum.append(i)\n",
    "print(happyNum)\n"
   ]
  },
  {
   "cell_type": "code",
   "execution_count": 8,
   "id": "ccf3f8ce",
   "metadata": {},
   "outputs": [
    {
     "name": "stdout",
     "output_type": "stream",
     "text": [
      "Enter the number :6\n",
      "6 Is a Harshad number\n"
     ]
    }
   ],
   "source": [
    "#5. Write a Python program to determine whether the given number is a Harshad Number?\n",
    "\n",
    "def digitSum(num):\n",
    "    sum = 0\n",
    "    while(num>0):\n",
    "        digit = num%10\n",
    "        sum= sum + digit       \n",
    "        num = num//10\n",
    "    return sum\n",
    "\n",
    "num = int(input(\"Enter the number :\"))\n",
    "sum = digitSum(num)\n",
    "\n",
    "if num % sum == 0:\n",
    "    print(num,\"Is a Harshad number\")\n",
    "else:\n",
    "    print(num,\"Is not a Harshad number\")"
   ]
  },
  {
   "cell_type": "code",
   "execution_count": 9,
   "id": "73c5bac8",
   "metadata": {},
   "outputs": [
    {
     "name": "stdout",
     "output_type": "stream",
     "text": [
      "Pronic numbers in range 1 to 100\n",
      "[2, 6, 12, 20, 30, 42, 56, 72, 90]\n"
     ]
    }
   ],
   "source": [
    "#6. Write a Python program to print all pronic numbers between 1 and 100?\n",
    "\n",
    "\n",
    "def isPronicNum(num):\n",
    "    isPronic = False\n",
    "    for i in range(1,num+1):\n",
    "        if i*(i+1) == num:\n",
    "            isPronic = True\n",
    "            break\n",
    "    return isPronic\n",
    "\n",
    "print(\"Pronic numbers in range 1 to 100\")\n",
    "pronicNum = []\n",
    "for i in range(1,101):\n",
    "    if isPronicNum(i):\n",
    "        pronicNum.append(i)\n",
    "print(pronicNum)"
   ]
  },
  {
   "cell_type": "code",
   "execution_count": null,
   "id": "808f794d",
   "metadata": {},
   "outputs": [],
   "source": []
  }
 ],
 "metadata": {
  "kernelspec": {
   "display_name": "Python 3 (ipykernel)",
   "language": "python",
   "name": "python3"
  },
  "language_info": {
   "codemirror_mode": {
    "name": "ipython",
    "version": 3
   },
   "file_extension": ".py",
   "mimetype": "text/x-python",
   "name": "python",
   "nbconvert_exporter": "python",
   "pygments_lexer": "ipython3",
   "version": "3.9.13"
  }
 },
 "nbformat": 4,
 "nbformat_minor": 5
}
