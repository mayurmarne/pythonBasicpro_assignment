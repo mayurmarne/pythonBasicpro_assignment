{
 "cells": [
  {
   "cell_type": "code",
   "execution_count": 2,
   "id": "8ac01971",
   "metadata": {},
   "outputs": [
    {
     "name": "stdout",
     "output_type": "stream",
     "text": [
      "\"Hello\"\n"
     ]
    }
   ],
   "source": [
    "#1. Write a Python program to print &quot;Hello Python&quot;?\n",
    "\n",
    "print('\"Hello\"')"
   ]
  },
  {
   "cell_type": "code",
   "execution_count": 23,
   "id": "c452a694",
   "metadata": {},
   "outputs": [
    {
     "name": "stdout",
     "output_type": "stream",
     "text": [
      "Addition = 30\n",
      "Division = 0.5\n"
     ]
    }
   ],
   "source": [
    "#2. Write a Python program to do arithmetical operations addition and division.?\n",
    "\n",
    "a = 10\n",
    "b= 20\n",
    "\n",
    "c = a+b\n",
    "d = a/b\n",
    "print(\"Addition = {}\".format(a+b))\n",
    "print(\"Division = {}\".format(a/b))"
   ]
  },
  {
   "cell_type": "code",
   "execution_count": 25,
   "id": "a41ca259",
   "metadata": {},
   "outputs": [
    {
     "name": "stdout",
     "output_type": "stream",
     "text": [
      "enter value for b5\n",
      "enter value for h3\n",
      "7.5\n"
     ]
    }
   ],
   "source": [
    "#3. Write a Python program to find the area of a triangle?\n",
    "#  formula  area = (1/2) · b · h\n",
    "\n",
    "b = int(input(\"enter value for b\"))\n",
    "h = int(input(\"enter value for h\"))\n",
    "\n",
    "area = (1/2)*b*h\n",
    "print(area)"
   ]
  },
  {
   "cell_type": "code",
   "execution_count": 28,
   "id": "b3f98a70",
   "metadata": {},
   "outputs": [
    {
     "name": "stdout",
     "output_type": "stream",
     "text": [
      "before swaping a = 10 , b = 20\n",
      "after swaping a = 20 , b = 10\n"
     ]
    }
   ],
   "source": [
    "#4. Write a Python program to swap two variables?\n",
    "\n",
    "a = 10 \n",
    "b = 20 \n",
    "print(\"before swaping a = {} , b = {}\".format(a,b))\n",
    "tem = a\n",
    "a = b\n",
    "b = tem\n",
    "print(\"after swaping a = {} , b = {}\".format(a,b))"
   ]
  },
  {
   "cell_type": "code",
   "execution_count": 31,
   "id": "0a63cd48",
   "metadata": {},
   "outputs": [
    {
     "data": {
      "text/plain": [
       "95"
      ]
     },
     "execution_count": 31,
     "metadata": {},
     "output_type": "execute_result"
    }
   ],
   "source": [
    "#5. Write a Python program to generate a random number?\n",
    "\n",
    "import random\n",
    "random.randint(0,100)"
   ]
  },
  {
   "cell_type": "code",
   "execution_count": null,
   "id": "77f3f08f",
   "metadata": {},
   "outputs": [],
   "source": [
    "    "
   ]
  }
 ],
 "metadata": {
  "kernelspec": {
   "display_name": "Python 3 (ipykernel)",
   "language": "python",
   "name": "python3"
  },
  "language_info": {
   "codemirror_mode": {
    "name": "ipython",
    "version": 3
   },
   "file_extension": ".py",
   "mimetype": "text/x-python",
   "name": "python",
   "nbconvert_exporter": "python",
   "pygments_lexer": "ipython3",
   "version": "3.9.13"
  }
 },
 "nbformat": 4,
 "nbformat_minor": 5
}
