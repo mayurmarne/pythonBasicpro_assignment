{
 "cells": [
  {
   "cell_type": "code",
   "execution_count": 17,
   "id": "5d31ec94",
   "metadata": {},
   "outputs": [
    {
     "name": "stdout",
     "output_type": "stream",
     "text": [
      "math1 : \n",
      "  [[1 2 3]\n",
      " [4 5 6]\n",
      " [7 8 9]] \n",
      " math2:\n",
      " [[2 3 4]\n",
      " [5 6 7]\n",
      " [8 9 1]] \n",
      "  addition of math1&math2 : \n",
      "[[ 3  5  7]\n",
      " [ 9 11 13]\n",
      " [15 17 10]]\n"
     ]
    }
   ],
   "source": [
    "#1. Write a Python Program to Add Two Matrices?\n",
    "import numpy as np \n",
    "\n",
    "\n",
    "math1 = np.array([[1,2,3],\n",
    "        [4,5,6],\n",
    "        [7,8,9]])\n",
    "\n",
    "math2 = np.array([[2,3,4],\n",
    "        [5,6,7],\n",
    "        [8,9,1]])\n",
    "\n",
    "sum = np.add(math1,math2)\n",
    "\n",
    "print(f\"math1 : \\n  {math1} \\n math2:\\n {math2} \\n  addition of math1&math2 : \\n{sum}\")"
   ]
  },
  {
   "cell_type": "code",
   "execution_count": 19,
   "id": "b6f38e77",
   "metadata": {},
   "outputs": [
    {
     "name": "stdout",
     "output_type": "stream",
     "text": [
      "math1 : \n",
      "  [[1 2 3]\n",
      " [4 5 6]\n",
      " [7 8 9]] \n",
      " math2:\n",
      " [[2 3 4]\n",
      " [5 6 7]\n",
      " [8 9 1]] \n",
      "  multiply of math1&math2 : \n",
      "[[ 36  42  21]\n",
      " [ 81  96  57]\n",
      " [126 150  93]]\n"
     ]
    }
   ],
   "source": [
    "#2. Write a Python Program to Multiply Two Matrices?\n",
    "\n",
    "import numpy as np \n",
    "\n",
    "\n",
    "math1 = np.array([[1,2,3],\n",
    "        [4,5,6],\n",
    "        [7,8,9]])\n",
    "\n",
    "math2 = np.array([[2,3,4],\n",
    "        [5,6,7],\n",
    "        [8,9,1]])\n",
    "\n",
    "sum = np.dot(math1,math2)\n",
    "\n",
    "print(f\"math1 : \\n  {math1} \\n math2:\\n {math2} \\n  multiply of math1&math2 : \\n{sum}\")"
   ]
  },
  {
   "cell_type": "code",
   "execution_count": 20,
   "id": "0f97a02e",
   "metadata": {},
   "outputs": [
    {
     "name": "stdout",
     "output_type": "stream",
     "text": [
      "Enter N for N x N matrix: 4\n",
      "Enter the element :\n",
      "1\n",
      "2\n",
      "3\n",
      "4\n",
      "5\n",
      "6\n",
      "7\n",
      "8\n",
      "9\n",
      "1\n",
      "24\n",
      "5\n",
      "4\n",
      "4\n",
      "4\n",
      "4\n",
      "Display Array M1 In Matrix Form\n",
      "1 2 3 4 \n",
      "5 6 7 8 \n",
      "9 1 24 5 \n",
      "4 4 4 4 \n",
      "Transposed Matrix\n",
      "[1, 5, 9, 4]\n",
      "[2, 6, 1, 4]\n",
      "[3, 7, 24, 4]\n",
      "[4, 8, 5, 4]\n"
     ]
    }
   ],
   "source": [
    "#3. Write a Python Program to Transpose a Matrix?\n",
    "def initializeMatrix(n,v=0):\n",
    "    M=[]             \n",
    "    for i in range(n):\n",
    "        #stor row\n",
    "        row =[]\n",
    "        for j in range(n):\n",
    "            row.append(v)\n",
    "        M.append(row)\n",
    "    return(M)\n",
    "\n",
    "def createMatrix(n):\n",
    "    \n",
    "    M=[]             \n",
    "    print(\"Enter the element :\")\n",
    "    for i in range(n):\n",
    "        #stor row\n",
    "        row =[]\n",
    "        for j in range(n):\n",
    "            row.append(int(input()))\n",
    "        M.append(row)\n",
    "    return(M)\n",
    "\n",
    "def printMatrix(M,n):\n",
    "    for i in range(n):\n",
    "        for j in range(n):\n",
    "            print(M[i][j], end=\" \")\n",
    "        print() \n",
    "        \n",
    "def transposeMatrix(M,n,result):\n",
    "    for i in range(n):\n",
    "        for j in range(n):\n",
    "            result[i][j]= M[j][i]\n",
    "    return result\n",
    "\n",
    "n=int(input(\"Enter N for N x N matrix: \"))       \n",
    "M1 = createMatrix(n)\n",
    "#Display the 2D array\n",
    "print(\"Display Array M1 In Matrix Form\")\n",
    "printMatrix(M1,n)\n",
    "\n",
    "result = initializeMatrix(n)\n",
    "result = transposeMatrix(M1,n,result)\n",
    "print(\"Transposed Matrix\")\n",
    "for r in result:\n",
    "    print(r)"
   ]
  },
  {
   "cell_type": "code",
   "execution_count": 22,
   "id": "68ac1367",
   "metadata": {},
   "outputs": [
    {
     "name": "stdout",
     "output_type": "stream",
     "text": [
      "Enter some stringhow are you\n",
      "are\n",
      "how\n",
      "you\n"
     ]
    }
   ],
   "source": [
    "#4. Write a Python Program to Sort Words in Alphabetic Order?\n",
    "str = input(\"Enter some string\")\n",
    "\n",
    "words = str.split()\n",
    "words.sort()\n",
    "for word in words:\n",
    "    print(word)"
   ]
  },
  {
   "cell_type": "code",
   "execution_count": 24,
   "id": "f99beca9",
   "metadata": {},
   "outputs": [
    {
     "name": "stdout",
     "output_type": "stream",
     "text": [
      "Enter some string with panctuationshey ! how are you?\n",
      "hey  how are you\n"
     ]
    }
   ],
   "source": [
    "#5. Write a Python Program to Remove Punctuation From a String?\n",
    "punctuations = '''!()-[]{};:'\"\\,<>./?@#$%^&*_~'''\n",
    "\n",
    "str = input(\"Enter some string with panctuations\")\n",
    "\n",
    "# remove punctuation from the string\n",
    "no_punct = \"\"\n",
    "for char in str:\n",
    "    if char not in punctuations:\n",
    "        no_punct = no_punct + char\n",
    "\n",
    "# display the unpunctuated string\n",
    "print(no_punct)"
   ]
  },
  {
   "cell_type": "code",
   "execution_count": null,
   "id": "33098e33",
   "metadata": {},
   "outputs": [],
   "source": []
  }
 ],
 "metadata": {
  "kernelspec": {
   "display_name": "Python 3 (ipykernel)",
   "language": "python",
   "name": "python3"
  },
  "language_info": {
   "codemirror_mode": {
    "name": "ipython",
    "version": 3
   },
   "file_extension": ".py",
   "mimetype": "text/x-python",
   "name": "python",
   "nbconvert_exporter": "python",
   "pygments_lexer": "ipython3",
   "version": "3.9.13"
  }
 },
 "nbformat": 4,
 "nbformat_minor": 5
}
